{
 "cells": [
  {
   "cell_type": "markdown",
   "id": "a12bcc76-8685-4ce2-b21e-97a223918ae9",
   "metadata": {},
   "source": [
    "# Aula 03/042024 - Comandos básicos no Python"
   ]
  },
  {
   "cell_type": "markdown",
   "id": "84a245fe-d4ce-42bd-a53f-92ccebf09911",
   "metadata": {},
   "source": [
    "Nesta aula aprenderemos a importar pacotes e os tipos de variáveis\n",
    "Desenvolvedor: Pedro Luiz Beal Piovezan"
   ]
  },
  {
   "cell_type": "markdown",
   "id": "f0c720f7-6de6-4497-a4bd-a48235a22260",
   "metadata": {},
   "source": [
    "## Tipos de Variáveis"
   ]
  },
  {
   "cell_type": "code",
   "execution_count": 10,
   "id": "e94b4d31-f4d7-445b-88d4-a3ba53d31e5e",
   "metadata": {},
   "outputs": [
    {
     "name": "stdout",
     "output_type": "stream",
     "text": [
      "a = 1\n",
      "<class 'int'>\n"
     ]
    }
   ],
   "source": [
    "# Criando Variáveis Inteiras\n",
    "a = 1\n",
    "print('a = '+str(a))\n",
    "print(type(a))"
   ]
  },
  {
   "cell_type": "code",
   "execution_count": 12,
   "id": "619e8e59-793d-425a-ad5f-c4f430ba6574",
   "metadata": {},
   "outputs": [
    {
     "name": "stdout",
     "output_type": "stream",
     "text": [
      "Salve o Corinthians\n",
      "<class 'str'>\n"
     ]
    }
   ],
   "source": [
    "# Criando variáveis strind\n",
    "b='Salve o '\n",
    "c='Corinthians'\n",
    "print(b+c)\n",
    "print(type(b))"
   ]
  },
  {
   "cell_type": "code",
   "execution_count": 14,
   "id": "4374d9e7-14df-44db-b9f6-e1f47d7ed65d",
   "metadata": {},
   "outputs": [
    {
     "name": "stdout",
     "output_type": "stream",
     "text": [
      "666.666\n",
      "<class 'float'>\n"
     ]
    }
   ],
   "source": [
    "# Criando variáveis float/double e precision\n",
    "d = 666.666\n",
    "print(d)\n",
    "print(type(d))\n",
    "\n"
   ]
  },
  {
   "cell_type": "code",
   "execution_count": null,
   "id": "90e24daf-d032-41da-a4ad-e831ce1a10a0",
   "metadata": {},
   "outputs": [],
   "source": []
  }
 ],
 "metadata": {
  "kernelspec": {
   "display_name": "Python 3 (ipykernel)",
   "language": "python",
   "name": "python3"
  },
  "language_info": {
   "codemirror_mode": {
    "name": "ipython",
    "version": 3
   },
   "file_extension": ".py",
   "mimetype": "text/x-python",
   "name": "python",
   "nbconvert_exporter": "python",
   "pygments_lexer": "ipython3",
   "version": "3.11.8"
  }
 },
 "nbformat": 4,
 "nbformat_minor": 5
}
