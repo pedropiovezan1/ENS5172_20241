{
 "cells": [
  {
   "cell_type": "code",
   "execution_count": 46,
   "id": "cb50f3bb-0b24-4343-ad14-5a4cfaa52a43",
   "metadata": {},
   "outputs": [
    {
     "name": "stdout",
     "output_type": "stream",
     "text": [
      "Guilherme gente fina\n"
     ]
    }
   ],
   "source": [
    "# Tipos de variáveis - string\n",
    "a = 'Guilherme '\n",
    "b = a + 'gente fina'\n",
    "print(b)"
   ]
  },
  {
   "cell_type": "code",
   "execution_count": 47,
   "id": "eb24c193-05fe-49db-8f35-6253bb2e0a7c",
   "metadata": {},
   "outputs": [
    {
     "name": "stdout",
     "output_type": "stream",
     "text": [
      "11\n",
      "<class 'int'>\n"
     ]
    }
   ],
   "source": [
    "# Tipos de variáveis - inteira\n",
    "\n",
    "c = 1\n",
    "d = c +10\n",
    "print(d)\n",
    "print(type(d))"
   ]
  },
  {
   "cell_type": "code",
   "execution_count": 48,
   "id": "0bc52f5a-3a0d-4034-a1c1-8888dce138ac",
   "metadata": {},
   "outputs": [
    {
     "name": "stdout",
     "output_type": "stream",
     "text": [
      "valor de g = 21.0 e o valor de h = 110.25\n",
      "<class 'float'>\n",
      "Valor de f = 10 do tipo = <class 'int'>\n",
      "Valor de f = 10.0 do tipo = <class 'float'>\n"
     ]
    }
   ],
   "source": [
    "# Tipos de variáveis - float\n",
    "\n",
    "f = 10.5\n",
    "g = f*2\n",
    "h = f**2\n",
    "print('valor de g = '+str(g) + ' e o valor de h = '+ str(h))\n",
    "print(type(h))\n",
    "f = int(f)\n",
    "print('Valor de f = '+str(f)+ ' do tipo = ' + str(type(f)))\n",
    "f = float(f)\n",
    "print('Valor de f = '+str(f)+ ' do tipo = ' + str(type(f)))"
   ]
  },
  {
   "cell_type": "code",
   "execution_count": 49,
   "id": "f3c9a327-5fad-4ab1-9573-e38099538e69",
   "metadata": {},
   "outputs": [
    {
     "name": "stdout",
     "output_type": "stream",
     "text": [
      "['Guilherme', 'Flavia', 'Lucas']\n",
      "[3, 6, 6]\n",
      "<class 'list'>\n"
     ]
    }
   ],
   "source": [
    "#Exemplo dicionário\n",
    "\n",
    "dicionario = {\n",
    "    'alunos':['Guilherme', 'Flavia', 'Lucas'],\n",
    "    'notas':[3, 6, 6]\n",
    "}\n",
    "\n",
    "print(dicionario['alunos'])\n",
    "print(dicionario['notas'])\n",
    "print(type(dicionario['notas']))"
   ]
  },
  {
   "cell_type": "code",
   "execution_count": 50,
   "id": "9a75a257-ff31-400e-b08a-16d16122f08f",
   "metadata": {},
   "outputs": [
    {
     "name": "stdout",
     "output_type": "stream",
     "text": [
      "0 Guilherme nota = 3\n",
      "1 Flavia nota = 6\n",
      "2 Lucas nota = 6\n",
      " \n",
      "0 Guilherme nota = 3\n",
      "1 Flavia nota = 6\n",
      "2 Lucas nota = 6\n"
     ]
    }
   ],
   "source": [
    "# Treinando Loop\n",
    "for ii,aluno in enumerate(dicionario['alunos']):\n",
    "    print(str(ii) + ' '+ aluno + ' nota = ' + str(dicionario['notas'][ii])) \n",
    "print(' ')\n",
    "for ii in range(0,len(dicionario['alunos'])):\n",
    "    print(str(ii) + ' '+ str(dicionario['alunos'][ii]) + ' nota = ' + str(dicionario['notas'][ii])) "
   ]
  },
  {
   "cell_type": "code",
   "execution_count": 51,
   "id": "a9774fef-da1c-44f0-a70d-13ff6c5df696",
   "metadata": {},
   "outputs": [
    {
     "name": "stdout",
     "output_type": "stream",
     "text": [
      "0 Guilherme nota = 10.0\n",
      "1 Flavia nota = 6\n",
      "2 Lucas nota = 6\n",
      " \n",
      "0 Guilherme nota = 3\n",
      "1 Flavia nota = 6\n",
      "2 Lucas nota = 10.0\n"
     ]
    }
   ],
   "source": [
    "# Treinando loop com condição\n",
    "for ii,aluno in enumerate(dicionario['alunos']):\n",
    "    if aluno=='Guilherme':\n",
    "        print(str(ii) + ' '+ aluno + ' nota = 10.0') \n",
    "    else:\n",
    "        print(str(ii) + ' '+ aluno + ' nota = ' + str(dicionario['notas'][ii])) \n",
    "\n",
    "print(' ')\n",
    "\n",
    "for ii,aluno in enumerate(dicionario['alunos']):\n",
    "    if ii==2:\n",
    "        print(str(ii) + ' '+ aluno + ' nota = 10.0') \n",
    "    else:\n",
    "        print(str(ii) + ' '+ aluno + ' nota = ' + str(dicionario['notas'][ii])) \n",
    "    "
   ]
  },
  {
   "cell_type": "code",
   "execution_count": 52,
   "id": "7a06817e-b89b-41d3-8109-03fb9d99e430",
   "metadata": {},
   "outputs": [
    {
     "name": "stdout",
     "output_type": "stream",
     "text": [
      "False\n",
      "True\n",
      "False\n",
      "True\n",
      "True\n",
      "True\n",
      "False\n",
      "<class 'bool'>\n"
     ]
    }
   ],
   "source": [
    "# Operações lógicas\n",
    "a = 1\n",
    "b = 3\n",
    "c = 1\n",
    "print(a==b) # Igual a - operação lógica\n",
    "print(a==c)\n",
    "print(a>b) # maior que \n",
    "print(a<b) # menor que \n",
    "print(a>=c) # maior igual que \n",
    "print(a!=b) # diferente de\n",
    "print(a!=c) # diferente de\n",
    "\n",
    "opTF = a!=c\n",
    "print(type(opTF))\n",
    "\n",
    "opT = True\n",
    "opF = False"
   ]
  },
  {
   "cell_type": "code",
   "execution_count": 53,
   "id": "7e183f47-07bd-4bc8-99b3-69887a73409f",
   "metadata": {},
   "outputs": [
    {
     "name": "stdout",
     "output_type": "stream",
     "text": [
      "0 Guilherme nota = 9.5\n",
      "1 Flavia nota = 6\n",
      "2 Lucas nota = 6\n"
     ]
    }
   ],
   "source": [
    "dicionario = {\n",
    "    'alunos':['Guilherme', 'Flavia', 'Lucas'],\n",
    "    'notas':[9.5, 6, 6]\n",
    "}\n",
    "\n",
    "# Treinando loop com condição\n",
    "for ii,aluno in enumerate(dicionario['alunos']):\n",
    "    if (aluno=='Guilherme') and (dicionario['notas'][ii]<=9):\n",
    "        print(str(ii) + ' '+ aluno + ' nota = 10.0') \n",
    "    else:\n",
    "        print(str(ii) + ' '+ aluno + ' nota = ' + str(dicionario['notas'][ii])) "
   ]
  },
  {
   "cell_type": "code",
   "execution_count": 54,
   "id": "da895077-6bfb-49ed-ad76-c7bb21ec882e",
   "metadata": {},
   "outputs": [
    {
     "name": "stdout",
     "output_type": "stream",
     "text": [
      "['Guilherme' 'Flavia' 'Lucas']\n",
      "<class 'numpy.ndarray'>\n",
      "\n",
      "[False False  True]\n",
      "(array([2], dtype=int64),)\n",
      "\n"
     ]
    },
    {
     "name": "stderr",
     "output_type": "stream",
     "text": [
      "C:\\Users\\pbeal\\AppData\\Local\\Temp\\ipykernel_19308\\3449895344.py:15: DeprecationWarning: Conversion of an array with ndim > 0 to a scalar is deprecated, and will error in future. Ensure you extract a single element from your array before performing this operation. (Deprecated NumPy 1.25.)\n",
      "  dicionario['notas'][int(np.where(mat2)[0])] = 9.5\n"
     ]
    }
   ],
   "source": [
    "# Treinando numpy\n",
    "import numpy as np\n",
    "# Convertendo para numpy\n",
    "mat = np.array(dicionario['alunos'])\n",
    "print(mat)\n",
    "print(type(mat))\n",
    "\n",
    "print('')\n",
    "mat2 = np.array(mat=='Lucas')\n",
    "print(mat2)\n",
    "# Local da matriz com valor verdadeiro\n",
    "print(np.where(mat2))\n",
    "\n",
    "print('')\n",
    "dicionario['notas'][int(np.where(mat2)[0])] = 9.5"
   ]
  },
  {
   "cell_type": "code",
   "execution_count": 55,
   "id": "bc280a91-c0e2-424f-b3a8-79b7dfdebde5",
   "metadata": {},
   "outputs": [
    {
     "name": "stdout",
     "output_type": "stream",
     "text": [
      "[0.46840933 0.04935509 0.84614926 0.53469377 0.02940909 0.87889663\n",
      " 0.37018006 0.86542099 0.39490261 0.34664271 0.56302459 0.86626815\n",
      " 0.6342216  0.21986134 0.18952371 0.92954057 0.43584817 0.72537787\n",
      " 0.55380475 0.52867107 0.55654783 0.83832757 0.93887993 0.7975037\n",
      " 0.77803615 0.67184396 0.09282452 0.87265562 0.47142954 0.70889787\n",
      " 0.25161387 0.97995332 0.69670042 0.57981676 0.66226784 0.46340774\n",
      " 0.09835486 0.06634286 0.54273048 0.51476085 0.7880533  0.84080313\n",
      " 0.14946648 0.11951825 0.60965554 0.42315401 0.2031133  0.15015427\n",
      " 0.66827874 0.08009548 0.77967655 0.37475772 0.75586882 0.3976506\n",
      " 0.99594143 0.87400284 0.30371344 0.94244015 0.08895546 0.21786029\n",
      " 0.2467513  0.90326651 0.96809261 0.05321076 0.73381252 0.52704591\n",
      " 0.08774063 0.17679202 0.89780341 0.81003742 0.21248735 0.42150111\n",
      " 0.3745435  0.78517945 0.74797715 0.23891328 0.5079757  0.13353675\n",
      " 0.51989464 0.15146403 0.51177507 0.74029562 0.47366167 0.42985638\n",
      " 0.91747841 0.67318825 0.45915659 0.58350481 0.92068008 0.13989695\n",
      " 0.63259541 0.90894344 0.43135274 0.78386968 0.98997207 0.08853806\n",
      " 0.60618727 0.54579521 0.35737416 0.4305341 ]\n",
      "[0.45146752 0.04933506 0.74873342 0.50957758 0.02940486 0.7700354\n",
      " 0.3617833  0.76136827 0.3847183  0.33974213 0.53374637 0.76191723\n",
      " 0.59255066 0.21809431 0.18839116 0.80134519 0.42217943 0.66341823\n",
      " 0.52592708 0.50438629 0.52825817 0.74352579 0.80689699 0.71561467\n",
      " 0.70188193 0.62243027 0.09269128 0.76603866 0.45416036 0.65099756\n",
      " 0.24896734 0.83047137 0.64169053 0.54787066 0.61490685 0.44699904\n",
      " 0.09819637 0.06629421 0.51647603 0.4923267  0.70898175 0.74517894\n",
      " 0.14891058 0.11923391 0.57258509 0.41063831 0.2017196  0.14959067\n",
      " 0.6196359  0.08000986 0.70304943 0.36604708 0.68592115 0.38725333\n",
      " 0.83927121 0.76690394 0.29906574 0.80899486 0.08883819 0.21614098\n",
      " 0.24425495 0.78535322 0.82380596 0.05318566 0.66970578 0.50298233\n",
      " 0.0876281  0.1758725  0.7819596  0.72431298 0.21089196 0.40913064\n",
      " 0.36584772 0.70695211 0.68015727 0.23664691 0.48640955 0.13314023\n",
      " 0.4967887  0.15088556 0.48972566 0.67450619 0.45614787 0.41674025\n",
      " 0.79407146 0.62348185 0.44319221 0.5509522  0.79601344 0.13944107\n",
      " 0.59123994 0.78885484 0.41810001 0.70602516 0.83601065 0.08842243\n",
      " 0.56973821 0.51909794 0.3498155  0.41735622]\n"
     ]
    }
   ],
   "source": [
    "# Matriz numpy\n",
    "\n",
    "vec = np.random.rand(100)\n",
    "print(vec)\n",
    "vec2 = np.sin(vec)\n",
    "print(vec2)"
   ]
  },
  {
   "cell_type": "code",
   "execution_count": 56,
   "id": "4323e175-b943-462c-9555-fb6e3d3d10f5",
   "metadata": {},
   "outputs": [
    {
     "name": "stdout",
     "output_type": "stream",
     "text": [
      "(100,)\n",
      "2024-01-01 00:00:00\n",
      "2024-01-02 00:00:00\n",
      "2024-01-03 00:00:00\n",
      "2024-01-04 00:00:00\n",
      "2024-01-05 00:00:00\n",
      "2024-01-06 00:00:00\n",
      "2024-01-07 00:00:00\n",
      "2024-01-08 00:00:00\n",
      "2024-01-09 00:00:00\n",
      "2024-01-10 00:00:00\n",
      "2024-01-11 00:00:00\n",
      "2024-01-12 00:00:00\n",
      "2024-01-13 00:00:00\n",
      "2024-01-14 00:00:00\n",
      "2024-01-15 00:00:00\n",
      "2024-01-16 00:00:00\n",
      "2024-01-17 00:00:00\n",
      "2024-01-18 00:00:00\n",
      "2024-01-19 00:00:00\n",
      "2024-01-20 00:00:00\n",
      "2024-01-21 00:00:00\n",
      "2024-01-22 00:00:00\n",
      "2024-01-23 00:00:00\n",
      "2024-01-24 00:00:00\n",
      "2024-01-25 00:00:00\n",
      "2024-01-26 00:00:00\n",
      "2024-01-27 00:00:00\n",
      "2024-01-28 00:00:00\n",
      "2024-01-29 00:00:00\n",
      "2024-01-30 00:00:00\n",
      "2024-01-31 00:00:00\n",
      "2024-02-01 00:00:00\n",
      "2024-02-02 00:00:00\n",
      "2024-02-03 00:00:00\n",
      "2024-02-04 00:00:00\n",
      "2024-02-05 00:00:00\n",
      "2024-02-06 00:00:00\n",
      "2024-02-07 00:00:00\n",
      "2024-02-08 00:00:00\n",
      "2024-02-09 00:00:00\n",
      "2024-02-10 00:00:00\n",
      "2024-02-11 00:00:00\n",
      "2024-02-12 00:00:00\n",
      "2024-02-13 00:00:00\n",
      "2024-02-14 00:00:00\n",
      "2024-02-15 00:00:00\n",
      "2024-02-16 00:00:00\n",
      "2024-02-17 00:00:00\n",
      "2024-02-18 00:00:00\n",
      "2024-02-19 00:00:00\n",
      "2024-02-20 00:00:00\n",
      "2024-02-21 00:00:00\n",
      "2024-02-22 00:00:00\n",
      "2024-02-23 00:00:00\n",
      "2024-02-24 00:00:00\n",
      "2024-02-25 00:00:00\n",
      "2024-02-26 00:00:00\n",
      "2024-02-27 00:00:00\n",
      "2024-02-28 00:00:00\n",
      "2024-02-29 00:00:00\n",
      "2024-03-01 00:00:00\n",
      "2024-03-02 00:00:00\n",
      "2024-03-03 00:00:00\n",
      "2024-03-04 00:00:00\n",
      "2024-03-05 00:00:00\n",
      "2024-03-06 00:00:00\n",
      "2024-03-07 00:00:00\n",
      "2024-03-08 00:00:00\n",
      "2024-03-09 00:00:00\n",
      "2024-03-10 00:00:00\n",
      "2024-03-11 00:00:00\n",
      "2024-03-12 00:00:00\n",
      "2024-03-13 00:00:00\n",
      "2024-03-14 00:00:00\n",
      "2024-03-15 00:00:00\n",
      "2024-03-16 00:00:00\n",
      "2024-03-17 00:00:00\n",
      "2024-03-18 00:00:00\n",
      "2024-03-19 00:00:00\n",
      "2024-03-20 00:00:00\n",
      "2024-03-21 00:00:00\n",
      "2024-03-22 00:00:00\n",
      "2024-03-23 00:00:00\n",
      "2024-03-24 00:00:00\n",
      "2024-03-25 00:00:00\n",
      "2024-03-26 00:00:00\n",
      "2024-03-27 00:00:00\n",
      "2024-03-28 00:00:00\n",
      "2024-03-29 00:00:00\n",
      "2024-03-30 00:00:00\n",
      "2024-03-31 00:00:00\n",
      "2024-04-01 00:00:00\n",
      "2024-04-02 00:00:00\n",
      "2024-04-03 00:00:00\n",
      "2024-04-04 00:00:00\n",
      "2024-04-05 00:00:00\n",
      "2024-04-06 00:00:00\n",
      "2024-04-07 00:00:00\n",
      "2024-04-08 00:00:00\n",
      "2024-04-09 00:00:00\n"
     ]
    }
   ],
   "source": [
    "# Datetime \n",
    "\n",
    "from datetime import datetime, timedelta\n",
    "\n",
    "# Data inicial\n",
    "start_date = datetime(2024, 1, 1)  # ano, mês, dia\n",
    "\n",
    "# Lista para armazenar as datas\n",
    "date_vector = []\n",
    "\n",
    "# Gerar datas para uma semana\n",
    "print(vec.shape)\n",
    "for i in range(0,vec.shape[0]):\n",
    "    date_vector.append(start_date + timedelta(days=i))\n",
    "\n",
    "# Exibir as datas\n",
    "for date in date_vector:\n",
    "    print(date)"
   ]
  },
  {
   "cell_type": "code",
   "execution_count": 57,
   "id": "19fe166a-8bcd-40e1-8729-c4c7964819c7",
   "metadata": {},
   "outputs": [
    {
     "name": "stdout",
     "output_type": "stream",
     "text": [
      "        datas       vec      vec2\n",
      "0  2024-01-01  0.468409  0.451468\n",
      "1  2024-01-02  0.049355  0.049335\n",
      "2  2024-01-03  0.846149  0.748733\n",
      "3  2024-01-04  0.534694  0.509578\n",
      "4  2024-01-05  0.029409  0.029405\n",
      "..        ...       ...       ...\n",
      "95 2024-04-05  0.088538  0.088422\n",
      "96 2024-04-06  0.606187  0.569738\n",
      "97 2024-04-07  0.545795  0.519098\n",
      "98 2024-04-08  0.357374  0.349816\n",
      "99 2024-04-09  0.430534  0.417356\n",
      "\n",
      "[100 rows x 3 columns]\n"
     ]
    }
   ],
   "source": [
    "# Criando dataframe e salvando\n",
    "import pandas as pd\n",
    "\n",
    "df = pd.DataFrame()\n",
    "df['datas'] = date_vector\n",
    "df['vec'] = vec\n",
    "df['vec2'] = vec2\n",
    "print(df)\n",
    "\n",
    "# Salvando em uma pasta\n",
    "pasta = r\"C:\\Users\\pbeal\\OneDrive\\Documentos\\GitHub\\ENS5172_20241\\tabelas\"\n",
    "df.to_csv(pasta+'/planilha.csv')"
   ]
  },
  {
   "cell_type": "code",
   "execution_count": null,
   "id": "19029b25-d0dd-4b5a-9f9d-59a8bc58aae4",
   "metadata": {},
   "outputs": [],
   "source": []
  }
 ],
 "metadata": {
  "kernelspec": {
   "display_name": "Python 3 (ipykernel)",
   "language": "python",
   "name": "python3"
  },
  "language_info": {
   "codemirror_mode": {
    "name": "ipython",
    "version": 3
   },
   "file_extension": ".py",
   "mimetype": "text/x-python",
   "name": "python",
   "nbconvert_exporter": "python",
   "pygments_lexer": "ipython3",
   "version": "3.11.8"
  }
 },
 "nbformat": 4,
 "nbformat_minor": 5
}
