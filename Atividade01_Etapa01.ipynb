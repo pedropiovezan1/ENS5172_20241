{
 "cells": [
  {
   "cell_type": "code",
   "execution_count": 3,
   "id": "e3a346a1-8e22-424d-a26c-d4cda81241ed",
   "metadata": {},
   "outputs": [
    {
     "name": "stdout",
     "output_type": "stream",
     "text": [
      "Valor de a = 1\n"
     ]
    },
    {
     "data": {
      "text/plain": [
       "int"
      ]
     },
     "execution_count": 3,
     "metadata": {},
     "output_type": "execute_result"
    }
   ],
   "source": [
    "# Variável inteira\n",
    "a = 1\n",
    "print('Valor de a = '+str(a))\n",
    "type(a)"
   ]
  },
  {
   "cell_type": "code",
   "execution_count": 4,
   "id": "4366572e-afb1-40cb-aa22-7299d3b5bbac",
   "metadata": {},
   "outputs": [
    {
     "name": "stdout",
     "output_type": "stream",
     "text": [
      "1.0\n"
     ]
    },
    {
     "data": {
      "text/plain": [
       "float"
      ]
     },
     "execution_count": 4,
     "metadata": {},
     "output_type": "execute_result"
    }
   ],
   "source": [
    "# Variável dupla precisão\n",
    "b = 1.0\n",
    "print(b)\n",
    "type(b)"
   ]
  },
  {
   "cell_type": "code",
   "execution_count": 5,
   "id": "c12b7995-f2e7-4d04-aa20-0bc76ed05a5c",
   "metadata": {},
   "outputs": [
    {
     "name": "stdout",
     "output_type": "stream",
     "text": [
      "1\n"
     ]
    },
    {
     "data": {
      "text/plain": [
       "int"
      ]
     },
     "execution_count": 5,
     "metadata": {},
     "output_type": "execute_result"
    }
   ],
   "source": [
    "# Converter float para int\n",
    "c = int(b)\n",
    "print(c)\n",
    "type(c)"
   ]
  },
  {
   "cell_type": "code",
   "execution_count": 6,
   "id": "a310d736-0446-4931-b865-ad947d223d19",
   "metadata": {},
   "outputs": [
    {
     "name": "stdout",
     "output_type": "stream",
     "text": [
      "nan\n"
     ]
    },
    {
     "data": {
      "text/plain": [
       "float"
      ]
     },
     "execution_count": 6,
     "metadata": {},
     "output_type": "execute_result"
    }
   ],
   "source": [
    "# Delacrando nan\n",
    "import numpy as np\n",
    "d = np.nan\n",
    "print(d)\n",
    "type(d)"
   ]
  },
  {
   "cell_type": "code",
   "execution_count": 7,
   "id": "e612e54d-8eb2-4103-8984-3ed40460471f",
   "metadata": {},
   "outputs": [
    {
     "name": "stdout",
     "output_type": "stream",
     "text": [
      "nan\n",
      "nan\n",
      "1.0\n"
     ]
    }
   ],
   "source": [
    "# Operação com NaN\n",
    "e = d*1\n",
    "print(e)\n",
    "e = d+1\n",
    "print(e)\n",
    "e = np.nansum([d,1])\n",
    "print(e)"
   ]
  },
  {
   "cell_type": "code",
   "execution_count": 8,
   "id": "635755b9-df7f-4d99-9ae3-58bbf29f4e70",
   "metadata": {},
   "outputs": [
    {
     "name": "stdout",
     "output_type": "stream",
     "text": [
      "Fábio\n",
      "Gabriel\n",
      "FábioGabriel\n",
      "Fábio Gabriel\n"
     ]
    }
   ],
   "source": [
    "# Declaração de variável texto\n",
    "f = 'Fábio'\n",
    "g = \"Gabriel\"\n",
    "print(f)\n",
    "print(g)\n",
    "print(f+g)\n",
    "print(f+' '+g)"
   ]
  },
  {
   "cell_type": "code",
   "execution_count": 9,
   "id": "296b7a9e-22b9-47e0-a3c1-701974b0698d",
   "metadata": {},
   "outputs": [
    {
     "data": {
      "text/plain": [
       "True"
      ]
     },
     "execution_count": 9,
     "metadata": {},
     "output_type": "execute_result"
    }
   ],
   "source": [
    "a == 1"
   ]
  },
  {
   "cell_type": "code",
   "execution_count": 10,
   "id": "e7d5e9a0-d278-49bc-bc5e-c748722ca961",
   "metadata": {},
   "outputs": [
    {
     "name": "stdout",
     "output_type": "stream",
     "text": [
      "True\n"
     ]
    },
    {
     "data": {
      "text/plain": [
       "bool"
      ]
     },
     "execution_count": 10,
     "metadata": {},
     "output_type": "execute_result"
    }
   ],
   "source": [
    "h = (a==1)\n",
    "print(h)\n",
    "type(h)"
   ]
  },
  {
   "cell_type": "code",
   "execution_count": 11,
   "id": "ed0f7dfa-332f-4e81-b5ef-2ade7a82683e",
   "metadata": {},
   "outputs": [
    {
     "name": "stdout",
     "output_type": "stream",
     "text": [
      "False\n"
     ]
    },
    {
     "data": {
      "text/plain": [
       "bool"
      ]
     },
     "execution_count": 11,
     "metadata": {},
     "output_type": "execute_result"
    }
   ],
   "source": [
    "h = (a==2)\n",
    "print(h)\n",
    "type(h)"
   ]
  },
  {
   "cell_type": "code",
   "execution_count": 12,
   "id": "f24335e0-8bba-4afb-8e35-bb1b6e1cc4e4",
   "metadata": {},
   "outputs": [
    {
     "data": {
      "text/plain": [
       "bool"
      ]
     },
     "execution_count": 12,
     "metadata": {},
     "output_type": "execute_result"
    }
   ],
   "source": [
    "i = True\n",
    "type(i)"
   ]
  },
  {
   "cell_type": "code",
   "execution_count": 13,
   "id": "16c656e7-e8dd-4966-8e4d-09bb7899c152",
   "metadata": {},
   "outputs": [
    {
     "data": {
      "text/plain": [
       "str"
      ]
     },
     "execution_count": 13,
     "metadata": {},
     "output_type": "execute_result"
    }
   ],
   "source": [
    "ii = 'True'\n",
    "type(ii)"
   ]
  },
  {
   "cell_type": "code",
   "execution_count": 14,
   "id": "231864e4-7157-45c3-b39d-d92a404fe93e",
   "metadata": {},
   "outputs": [
    {
     "data": {
      "text/plain": [
       "True"
      ]
     },
     "execution_count": 14,
     "metadata": {},
     "output_type": "execute_result"
    }
   ],
   "source": [
    "# Operação ==\n",
    "a==b"
   ]
  },
  {
   "cell_type": "code",
   "execution_count": 15,
   "id": "aca01a47-74dd-45bc-8c4e-663efd92d0e7",
   "metadata": {},
   "outputs": [
    {
     "data": {
      "text/plain": [
       "False"
      ]
     },
     "execution_count": 15,
     "metadata": {},
     "output_type": "execute_result"
    }
   ],
   "source": [
    "# Operação ><\n",
    "a>b"
   ]
  },
  {
   "cell_type": "code",
   "execution_count": 16,
   "id": "ba41a022-5434-4b44-ada9-086157d706cc",
   "metadata": {},
   "outputs": [
    {
     "data": {
      "text/plain": [
       "False"
      ]
     },
     "execution_count": 16,
     "metadata": {},
     "output_type": "execute_result"
    }
   ],
   "source": [
    "# Operação !=\n",
    "a!=b"
   ]
  },
  {
   "cell_type": "code",
   "execution_count": 17,
   "id": "6bd92f32-f316-406e-8548-f1cc7faa1b24",
   "metadata": {},
   "outputs": [
    {
     "data": {
      "text/plain": [
       "True"
      ]
     },
     "execution_count": 17,
     "metadata": {},
     "output_type": "execute_result"
    }
   ],
   "source": [
    "# Operação >= ou <=\n",
    "a>=b"
   ]
  },
  {
   "cell_type": "code",
   "execution_count": 18,
   "id": "3fb497bc-ce35-42b2-8400-facb07007c91",
   "metadata": {},
   "outputs": [
    {
     "data": {
      "text/plain": [
       "2.0"
      ]
     },
     "execution_count": 18,
     "metadata": {},
     "output_type": "execute_result"
    }
   ],
   "source": [
    "# Soma \n",
    "a+b"
   ]
  },
  {
   "cell_type": "code",
   "execution_count": 19,
   "id": "d382a882-501b-42f0-9421-a9598ce92750",
   "metadata": {},
   "outputs": [
    {
     "name": "stdout",
     "output_type": "stream",
     "text": [
      "2.0\n"
     ]
    }
   ],
   "source": [
    "# Soma e atribui valor\n",
    "ab = a+b\n",
    "print(ab)"
   ]
  },
  {
   "cell_type": "code",
   "execution_count": 20,
   "id": "345aaca6-4d70-4062-9c15-15ee8e2de0da",
   "metadata": {},
   "outputs": [
    {
     "name": "stdout",
     "output_type": "stream",
     "text": [
      "Não use l como nome de variável\n",
      "1.0\n"
     ]
    }
   ],
   "source": [
    "# Multiplicação\n",
    "l = a*b # Não use l como variável\n",
    "print(\"Não use l como nome de variável\")\n",
    "j = a*b\n",
    "print(j)"
   ]
  },
  {
   "cell_type": "code",
   "execution_count": 21,
   "id": "7b6c63b8-c5fd-4d81-94cb-1214067e0b29",
   "metadata": {},
   "outputs": [
    {
     "data": {
      "text/plain": [
       "1.0"
      ]
     },
     "execution_count": 21,
     "metadata": {},
     "output_type": "execute_result"
    }
   ],
   "source": [
    "# Divisão\n",
    "a/b"
   ]
  },
  {
   "cell_type": "code",
   "execution_count": 22,
   "id": "c0bbf48b-0b4e-4b82-97e8-5eaac9c4c951",
   "metadata": {},
   "outputs": [
    {
     "data": {
      "text/plain": [
       "25"
      ]
     },
     "execution_count": 22,
     "metadata": {},
     "output_type": "execute_result"
    }
   ],
   "source": [
    "# Potencia\n",
    "5**2"
   ]
  },
  {
   "cell_type": "code",
   "execution_count": 23,
   "id": "ffa69c9a-ba87-44e0-9de8-ae620dc9980a",
   "metadata": {},
   "outputs": [
    {
     "data": {
      "text/plain": [
       "22026.465794806718"
      ]
     },
     "execution_count": 23,
     "metadata": {},
     "output_type": "execute_result"
    }
   ],
   "source": [
    "# Operações matemáticas com a bibliotéca math\n",
    "import math\n",
    "\n",
    "math.exp(10)"
   ]
  },
  {
   "cell_type": "code",
   "execution_count": 24,
   "id": "baec8bbf-0cd6-4445-923c-81b1ffb8adf3",
   "metadata": {},
   "outputs": [
    {
     "data": {
      "text/plain": [
       "1.0"
      ]
     },
     "execution_count": 24,
     "metadata": {},
     "output_type": "execute_result"
    }
   ],
   "source": [
    "math.exp(0)"
   ]
  },
  {
   "cell_type": "code",
   "execution_count": 25,
   "id": "566098bc-0c76-42e8-b9da-3a5eebe928df",
   "metadata": {},
   "outputs": [
    {
     "data": {
      "text/plain": [
       "2.718281828459045"
      ]
     },
     "execution_count": 25,
     "metadata": {},
     "output_type": "execute_result"
    }
   ],
   "source": [
    "math.exp(a)"
   ]
  },
  {
   "cell_type": "code",
   "execution_count": 26,
   "id": "575ee744-31e7-4f38-98bb-3192f91cd983",
   "metadata": {},
   "outputs": [
    {
     "data": {
      "text/plain": [
       "4.5399929762484854e-05"
      ]
     },
     "execution_count": 26,
     "metadata": {},
     "output_type": "execute_result"
    }
   ],
   "source": [
    "math.exp(-10)"
   ]
  },
  {
   "cell_type": "code",
   "execution_count": 27,
   "id": "08845024-99e4-4ee5-8676-43fdf295207d",
   "metadata": {},
   "outputs": [
    {
     "data": {
      "text/plain": [
       "0.0"
      ]
     },
     "execution_count": 27,
     "metadata": {},
     "output_type": "execute_result"
    }
   ],
   "source": [
    "import math as mt\n",
    "mt.log(c)"
   ]
  },
  {
   "cell_type": "code",
   "execution_count": 28,
   "id": "7bb7e4d1-bf09-496d-9fd8-2e591d434895",
   "metadata": {},
   "outputs": [
    {
     "data": {
      "text/plain": [
       "2.0"
      ]
     },
     "execution_count": 28,
     "metadata": {},
     "output_type": "execute_result"
    }
   ],
   "source": [
    "mt.log10(100)"
   ]
  },
  {
   "cell_type": "code",
   "execution_count": 29,
   "id": "c72894fd-f1d7-41cf-a410-f27eaf289da2",
   "metadata": {},
   "outputs": [
    {
     "name": "stdout",
     "output_type": "stream",
     "text": [
      "[1, 2, 3]\n"
     ]
    }
   ],
   "source": [
    "# Listas\n",
    "myFirstList = [1,2,3]\n",
    "print(myFirstList)"
   ]
  },
  {
   "cell_type": "code",
   "execution_count": 30,
   "id": "9f423cef-e679-43df-a504-0fa38be2bbc9",
   "metadata": {},
   "outputs": [
    {
     "name": "stdout",
     "output_type": "stream",
     "text": [
      "1\n",
      "3\n"
     ]
    }
   ],
   "source": [
    "# Acessando valores da lista pelo index\n",
    "print(myFirstList[0])\n",
    "print(myFirstList[2])"
   ]
  },
  {
   "cell_type": "code",
   "execution_count": 31,
   "id": "02ef106e-8d40-4a76-b448-0a09fbd3c973",
   "metadata": {},
   "outputs": [
    {
     "data": {
      "text/plain": [
       "False"
      ]
     },
     "execution_count": 31,
     "metadata": {},
     "output_type": "execute_result"
    }
   ],
   "source": [
    "myFirstList==a"
   ]
  },
  {
   "cell_type": "code",
   "execution_count": 32,
   "id": "8e6aac1f-3de9-4531-b565-c1358a5b9c7e",
   "metadata": {},
   "outputs": [
    {
     "data": {
      "text/plain": [
       "True"
      ]
     },
     "execution_count": 32,
     "metadata": {},
     "output_type": "execute_result"
    }
   ],
   "source": [
    "myFirstList[0]==a"
   ]
  },
  {
   "cell_type": "code",
   "execution_count": 33,
   "id": "d5f9952c-a04a-4781-96c4-15a24368ed25",
   "metadata": {},
   "outputs": [
    {
     "name": "stdout",
     "output_type": "stream",
     "text": [
      "[1, 1, 'c']\n"
     ]
    }
   ],
   "source": [
    "mySecList = [1,a,'c']\n",
    "print(mySecList)"
   ]
  },
  {
   "cell_type": "code",
   "execution_count": 34,
   "id": "72674094-02e7-4bd9-a115-d69786038805",
   "metadata": {},
   "outputs": [
    {
     "data": {
      "text/plain": [
       "list"
      ]
     },
     "execution_count": 34,
     "metadata": {},
     "output_type": "execute_result"
    }
   ],
   "source": [
    "type(mySecList)"
   ]
  },
  {
   "cell_type": "code",
   "execution_count": 35,
   "id": "4e738b2b-372d-4589-8466-26bc2cb385a6",
   "metadata": {},
   "outputs": [
    {
     "data": {
      "text/plain": [
       "str"
      ]
     },
     "execution_count": 35,
     "metadata": {},
     "output_type": "execute_result"
    }
   ],
   "source": [
    "type(mySecList[2])\n"
   ]
  },
  {
   "cell_type": "code",
   "execution_count": 36,
   "id": "8bce13c6-8ab5-47f5-94a5-3d7b3c5b0520",
   "metadata": {},
   "outputs": [
    {
     "data": {
      "text/plain": [
       "int"
      ]
     },
     "execution_count": 36,
     "metadata": {},
     "output_type": "execute_result"
    }
   ],
   "source": [
    "type(mySecList[1])"
   ]
  },
  {
   "cell_type": "code",
   "execution_count": 37,
   "id": "356817f2-668a-4172-b821-64c7b727ac3b",
   "metadata": {},
   "outputs": [
    {
     "name": "stdout",
     "output_type": "stream",
     "text": [
      "C:\\Users\\pbeal\\OneDrive\\Documentos\\GitHub\\ENS5172_20241\n"
     ]
    }
   ],
   "source": [
    "#CAMINHOS PATH\n",
    "path = r\"C:\\Users\\pbeal\\OneDrive\\Documentos\\GitHub\\ENS5172_20241\"\n",
    "print(path)"
   ]
  },
  {
   "cell_type": "code",
   "execution_count": 40,
   "id": "29ca5d39-381a-45eb-bfc6-9eee74ad2a5f",
   "metadata": {},
   "outputs": [
    {
     "name": "stdout",
     "output_type": "stream",
     "text": [
      "C:/Users/pbeal/OneDrive/Documentos/GitHub/ENS5172_20241\n"
     ]
    }
   ],
   "source": [
    "path = \"C:/Users/pbeal/OneDrive/Documentos/GitHub/ENS5172_20241\"\n",
    "print(path)"
   ]
  },
  {
   "cell_type": "code",
   "execution_count": 41,
   "id": "07de3a16-1c1c-4099-a0cb-233fb75c0c7f",
   "metadata": {},
   "outputs": [
    {
     "data": {
      "text/plain": [
       "['.git',\n",
       " '.gitignore',\n",
       " '.ipynb_checkpoints',\n",
       " 'Aula01-checkpoint.ipynb',\n",
       " 'inputs',\n",
       " 'README.md',\n",
       " 'scripts',\n",
       " 'Untitled.ipynb',\n",
       " 'Untitled1.ipynb',\n",
       " 'venv']"
      ]
     },
     "execution_count": 41,
     "metadata": {},
     "output_type": "execute_result"
    }
   ],
   "source": [
    "import os\n",
    "# Listar arquivos na pasta\n",
    "os.listdir(path)"
   ]
  },
  {
   "cell_type": "code",
   "execution_count": 42,
   "id": "6d85d6d1-cddc-416b-bc11-f279b668ac11",
   "metadata": {},
   "outputs": [
    {
     "data": {
      "text/plain": [
       "'.git'"
      ]
     },
     "execution_count": 42,
     "metadata": {},
     "output_type": "execute_result"
    }
   ],
   "source": [
    "# Selecionar primeiro arquivo listado\n",
    "os.listdir(path)[0]"
   ]
  },
  {
   "cell_type": "code",
   "execution_count": 43,
   "id": "5fd074ac-366a-4e32-9d80-2031521fa26e",
   "metadata": {},
   "outputs": [
    {
     "data": {
      "text/plain": [
       "'C:/Users/pbeal/OneDrive/Documentos/GitHub/ENS5172_20241/.git'"
      ]
     },
     "execution_count": 43,
     "metadata": {},
     "output_type": "execute_result"
    }
   ],
   "source": [
    "# Concatenando caminhos\n",
    "path+\"/\"+os.listdir(path)[0]"
   ]
  },
  {
   "cell_type": "code",
   "execution_count": 44,
   "id": "51008200-e9f5-4592-b728-2b68334ca38f",
   "metadata": {},
   "outputs": [
    {
     "data": {
      "text/plain": [
       "['COMMIT_EDITMSG',\n",
       " 'config',\n",
       " 'description',\n",
       " 'FETCH_HEAD',\n",
       " 'HEAD',\n",
       " 'hooks',\n",
       " 'index',\n",
       " 'info',\n",
       " 'logs',\n",
       " 'objects',\n",
       " 'packed-refs',\n",
       " 'refs']"
      ]
     },
     "execution_count": 44,
     "metadata": {},
     "output_type": "execute_result"
    }
   ],
   "source": [
    "# Listando caminho concatenado\n",
    "os.listdir(path+\"/\"+os.listdir(path)[0])"
   ]
  },
  {
   "cell_type": "code",
   "execution_count": 45,
   "id": "d415bdff-13af-4d0c-94c2-9f8213222cdf",
   "metadata": {},
   "outputs": [
    {
     "data": {
      "text/plain": [
       "'C:\\\\Users\\\\pbeal\\\\OneDrive\\\\Documentos\\\\GitHub\\\\ENS5172_20241\\\\venv\\\\Scripts'"
      ]
     },
     "execution_count": 45,
     "metadata": {},
     "output_type": "execute_result"
    }
   ],
   "source": [
    "# Diretório que estou trababalhando\n",
    "os.getcwd()"
   ]
  },
  {
   "cell_type": "code",
   "execution_count": 50,
   "id": "b10d57ed-c162-448e-ace6-6edb295f27b7",
   "metadata": {},
   "outputs": [],
   "source": [
    "# Mudo de diretório para o caminho \n",
    "os.chdir('C:\\\\Users\\\\pbeal\\\\Documents\\\\')"
   ]
  },
  {
   "cell_type": "code",
   "execution_count": 51,
   "id": "5bd42c4d-0247-4e63-ba1a-2bef9ad4c95a",
   "metadata": {},
   "outputs": [
    {
     "data": {
      "text/plain": [
       "'C:\\\\Users\\\\pbeal\\\\Documents'"
      ]
     },
     "execution_count": 51,
     "metadata": {},
     "output_type": "execute_result"
    }
   ],
   "source": [
    "os.getcwd()"
   ]
  },
  {
   "cell_type": "code",
   "execution_count": 52,
   "id": "c62389af-2a15-4ead-a6e1-2450d6868b87",
   "metadata": {},
   "outputs": [
    {
     "name": "stdout",
     "output_type": "stream",
     "text": [
      "Criando diretório C:\\Users\\pbeal\\Documents/test\n"
     ]
    }
   ],
   "source": [
    "# Criando diretório\n",
    "new_path = os.getcwd()+'/test'\n",
    "\n",
    "if os.path.isdir(new_path):\n",
    "    print('diretório já existe')\n",
    "else:\n",
    "    print('Criando diretório '+new_path)\n",
    "    os.mkdir(new_path)"
   ]
  },
  {
   "cell_type": "code",
   "execution_count": 53,
   "id": "96ae5369-79a6-4d75-9c6c-4a24131b9d3b",
   "metadata": {},
   "outputs": [
    {
     "name": "stdout",
     "output_type": "stream",
     "text": [
      "Criando diretório C:\\Users\\pbeal\\Documents/test2\n"
     ]
    }
   ],
   "source": [
    "# Criando diretório\n",
    "new_path = os.getcwd()+'/test2'\n",
    "\n",
    "if os.path.isdir(new_path):\n",
    "    print('diretório já existe')\n",
    "    # Criando um arquivo de texto\n",
    "    with open(new_path+\"/copy.txt\", \"w\") as file:\n",
    "        file.write(\"Your text goes here\")\n",
    "else:\n",
    "    print('Criando diretório '+new_path)\n",
    "    os.mkdir(new_path)\n",
    "    with open(new_path+\"/copy.txt\", \"w\") as file:\n",
    "        file.write(\"Your text goes here\")"
   ]
  },
  {
   "cell_type": "code",
   "execution_count": 54,
   "id": "9de59bdf-f03d-4741-99ad-2c017c07ca4e",
   "metadata": {},
   "outputs": [
    {
     "data": {
      "text/plain": [
       "numpy.ndarray"
      ]
     },
     "execution_count": 54,
     "metadata": {},
     "output_type": "execute_result"
    }
   ],
   "source": [
    "import numpy as np\n",
    "# Criando uma variável numpy\n",
    "n = np.array(0)\n",
    "type(n)"
   ]
  },
  {
   "cell_type": "code",
   "execution_count": 55,
   "id": "6ce53f7d-226f-4f54-917a-461a6ae29530",
   "metadata": {},
   "outputs": [
    {
     "name": "stdout",
     "output_type": "stream",
     "text": [
      "[ 1  2  3 10 20 55]\n"
     ]
    }
   ],
   "source": [
    "# Criando uma variável numpy a partir de uma lista\n",
    "myThirdList=[1,2,3,10,20,55]\n",
    "n = np.array(myThirdList)\n",
    "print(n)"
   ]
  },
  {
   "cell_type": "code",
   "execution_count": 56,
   "id": "c18619a0-5759-40cd-8ab7-8e42dd088c8f",
   "metadata": {},
   "outputs": [
    {
     "name": "stdout",
     "output_type": "stream",
     "text": [
      "[[0.31739279 0.49571038 0.60080968 0.06945515 0.39197517 0.71637001\n",
      "  0.24024939 0.42575724 0.66860201 0.41944317]\n",
      " [0.95149997 0.39144281 0.61071049 0.27449937 0.0585458  0.04774589\n",
      "  0.24867916 0.36868495 0.24464959 0.27894265]\n",
      " [0.20602377 0.52340763 0.91181033 0.61264306 0.57195389 0.38434464\n",
      "  0.25507312 0.33871    0.11211156 0.79040753]\n",
      " [0.5376364  0.9785032  0.48455756 0.27011229 0.01511017 0.29162265\n",
      "  0.61131138 0.4343945  0.98278623 0.22183664]\n",
      " [0.93728761 0.50969325 0.20850737 0.47487986 0.41206207 0.72072888\n",
      "  0.4310619  0.37724177 0.7090019  0.7600391 ]\n",
      " [0.61245784 0.06803844 0.2337285  0.28419326 0.05565807 0.27681851\n",
      "  0.52862572 0.59221249 0.26995648 0.96976409]\n",
      " [0.29347791 0.96435634 0.95032581 0.60197833 0.91994206 0.80143797\n",
      "  0.90402534 0.94724775 0.07413409 0.78740784]\n",
      " [0.72346851 0.56130205 0.31889378 0.12596429 0.89143682 0.63436259\n",
      "  0.96654457 0.05777772 0.19704067 0.82794208]\n",
      " [0.48567967 0.48540832 0.7846493  0.6882987  0.50067921 0.29173144\n",
      "  0.05076178 0.00319747 0.98391668 0.02410878]\n",
      " [0.53910212 0.68620232 0.13807521 0.93243483 0.65102311 0.55966406\n",
      "  0.28027982 0.48041756 0.62713352 0.50221804]]\n",
      "(10, 10)\n"
     ]
    }
   ],
   "source": [
    "# Criando uma matriz de 10x10 de números aleatórios entre 0 e 1\n",
    "n = np.random.rand(10,10)\n",
    "print(n)\n",
    "# Dimensões da matrix\n",
    "print(n.shape)"
   ]
  },
  {
   "cell_type": "code",
   "execution_count": 57,
   "id": "01c1d28e-1366-4d1a-8966-c88fe934972c",
   "metadata": {},
   "outputs": [
    {
     "data": {
      "text/plain": [
       "array([0.31739279, 0.49571038, 0.60080968, 0.06945515, 0.39197517,\n",
       "       0.71637001, 0.24024939, 0.42575724, 0.66860201, 0.41944317])"
      ]
     },
     "execution_count": 57,
     "metadata": {},
     "output_type": "execute_result"
    }
   ],
   "source": [
    "# Acessando valores da matriz\n",
    "n[0,:]"
   ]
  },
  {
   "cell_type": "code",
   "execution_count": 58,
   "id": "c2cef0d1-6d3d-4eca-a595-2703ded10210",
   "metadata": {},
   "outputs": [
    {
     "data": {
      "text/plain": [
       "array([0.31739279, 0.95149997, 0.20602377, 0.5376364 , 0.93728761,\n",
       "       0.61245784, 0.29347791, 0.72346851, 0.48567967, 0.53910212])"
      ]
     },
     "execution_count": 58,
     "metadata": {},
     "output_type": "execute_result"
    }
   ],
   "source": [
    "n[:,0]"
   ]
  },
  {
   "cell_type": "code",
   "execution_count": 59,
   "id": "9a3f0e23-8b7f-4471-b27e-314d701d208c",
   "metadata": {},
   "outputs": [
    {
     "data": {
      "text/plain": [
       "array([[0.49571038, 0.60080968, 0.06945515, 0.39197517],\n",
       "       [0.39144281, 0.61071049, 0.27449937, 0.0585458 ],\n",
       "       [0.52340763, 0.91181033, 0.61264306, 0.57195389],\n",
       "       [0.9785032 , 0.48455756, 0.27011229, 0.01511017],\n",
       "       [0.50969325, 0.20850737, 0.47487986, 0.41206207],\n",
       "       [0.06803844, 0.2337285 , 0.28419326, 0.05565807],\n",
       "       [0.96435634, 0.95032581, 0.60197833, 0.91994206],\n",
       "       [0.56130205, 0.31889378, 0.12596429, 0.89143682],\n",
       "       [0.48540832, 0.7846493 , 0.6882987 , 0.50067921],\n",
       "       [0.68620232, 0.13807521, 0.93243483, 0.65102311]])"
      ]
     },
     "execution_count": 59,
     "metadata": {},
     "output_type": "execute_result"
    }
   ],
   "source": [
    "n[:,1:5]"
   ]
  },
  {
   "cell_type": "code",
   "execution_count": 60,
   "id": "0b0da5fa-d07c-4c70-a6ec-0352e051119b",
   "metadata": {},
   "outputs": [
    {
     "data": {
      "text/plain": [
       "array([0.49571038, 0.60080968, 0.06945515, 0.39197517])"
      ]
     },
     "execution_count": 60,
     "metadata": {},
     "output_type": "execute_result"
    }
   ],
   "source": [
    "n[0,1:5]"
   ]
  },
  {
   "cell_type": "code",
   "execution_count": 61,
   "id": "60175f23-6ecf-4c5c-a0f9-7b232db215ea",
   "metadata": {},
   "outputs": [
    {
     "data": {
      "text/plain": [
       "0.41944316701541484"
      ]
     },
     "execution_count": 61,
     "metadata": {},
     "output_type": "execute_result"
    }
   ],
   "source": [
    "n[0,-1]"
   ]
  },
  {
   "cell_type": "code",
   "execution_count": 62,
   "id": "f2e6d748-7113-433d-a163-f5e4a1528c75",
   "metadata": {},
   "outputs": [
    {
     "data": {
      "text/plain": [
       "array([0.39197517, 0.71637001, 0.24024939, 0.42575724, 0.66860201])"
      ]
     },
     "execution_count": 62,
     "metadata": {},
     "output_type": "execute_result"
    }
   ],
   "source": [
    "n[0,4:-1]"
   ]
  },
  {
   "cell_type": "code",
   "execution_count": 63,
   "id": "372eac91-3897-434e-943a-2599eb7ed2ea",
   "metadata": {},
   "outputs": [
    {
     "data": {
      "text/plain": [
       "array([0.39197517, 0.71637001, 0.24024939, 0.42575724, 0.66860201,\n",
       "       0.41944317])"
      ]
     },
     "execution_count": 63,
     "metadata": {},
     "output_type": "execute_result"
    }
   ],
   "source": [
    "n[0,4:]"
   ]
  },
  {
   "cell_type": "code",
   "execution_count": 64,
   "id": "16d3cec3-688f-428c-94ce-465694f86623",
   "metadata": {},
   "outputs": [
    {
     "name": "stdout",
     "output_type": "stream",
     "text": [
      "[[ 0.46182274  0.90767449  1.09996085 -1.05763609  0.67288112  1.27587944\n",
      "   0.18336016  0.75555195  1.20687161  0.74061067]\n",
      " [ 1.55972229  0.67152206  1.11630565  0.3166316  -1.22850802 -1.43242437\n",
      "   0.21784617  0.61162512  0.20150959  0.33268884]\n",
      " [ 0.0296742   0.9620432   1.51711463  1.11946511  1.05074101  0.65322227\n",
      "   0.24323287  0.52682692 -0.57882296  1.37423131]\n",
      " [ 0.98886513  1.58770669  0.88491887  0.3005204  -2.58294902  0.37714331\n",
      "   1.11728908  0.77563575  1.59207427  0.10362391]\n",
      " [ 1.54467282  0.93549171  0.04165703  0.86474449  0.72285662  1.28194567\n",
      "   0.76793433  0.63456891  1.26554085  1.33505251]\n",
      " [ 1.11916275 -1.07824449  0.15584281  0.35133713 -1.27909024  0.32504471\n",
      "   0.97196329  1.08554814  0.29994339  1.57873546]\n",
      " [ 0.383485    1.5731435   1.55848751  1.10190408  1.52599333  1.38809021\n",
      "   1.50854003  1.55524331 -0.99244193  1.37042897]\n",
      " [ 1.28573965  1.03194181  0.46654071 -0.46231889  1.4945172   1.15430334\n",
      "   1.57541004 -1.24171406 -0.01490722  1.42062583]\n",
      " [ 0.88723192  0.88667306  1.3669195   1.23590553  0.91764824  0.37751629\n",
      "  -1.37117367 -4.13595807  1.59322385 -2.11574128]\n",
      " [ 0.99158766  1.23285515 -0.37051884  1.53948189  1.18022777  1.02901935\n",
      "   0.3374711   0.87633827  1.14284211  0.920717  ]]\n"
     ]
    }
   ],
   "source": [
    "an = np.log(n*5)\n",
    "print(an)"
   ]
  },
  {
   "cell_type": "code",
   "execution_count": null,
   "id": "0d8fb887-d0e9-4fc4-a973-2feebe9ddf28",
   "metadata": {},
   "outputs": [],
   "source": []
  }
 ],
 "metadata": {
  "kernelspec": {
   "display_name": "Python 3 (ipykernel)",
   "language": "python",
   "name": "python3"
  },
  "language_info": {
   "codemirror_mode": {
    "name": "ipython",
    "version": 3
   },
   "file_extension": ".py",
   "mimetype": "text/x-python",
   "name": "python",
   "nbconvert_exporter": "python",
   "pygments_lexer": "ipython3",
   "version": "3.11.8"
  }
 },
 "nbformat": 4,
 "nbformat_minor": 5
}
